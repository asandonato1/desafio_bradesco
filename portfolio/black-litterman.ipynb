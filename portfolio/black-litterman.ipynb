{
 "cells": [
  {
   "cell_type": "code",
   "execution_count": 16,
   "id": "34d5642f",
   "metadata": {},
   "outputs": [],
   "source": [
    "import pandas as pd\n",
    "import numpy as np\n",
    "import yfinance as yf\n",
    "from scipy.optimize import minimize"
   ]
  },
  {
   "cell_type": "code",
   "execution_count": null,
   "id": "c946ff71",
   "metadata": {},
   "outputs": [],
   "source": [
    "# tickers utilizados\n",
    "tickers = {\n",
    "    \"BVSP\": \"^BVSP\",\n",
    "    \"SP500\": \"^GSPC\",\n",
    "    \"USDBRL\": \"USDBRL=X\",\n",
    "    \"GOLD\": \"GC=F\"\n",
    "} \n",
    "\n",
    "data = yf.download(list(tickers.values()), start=\"2020-01-02\", end=\"2024-12-30\")['Close'] # data pedida\n",
    "data.columns = tickers.keys()\n",
    "\n",
    "# log-retornos \n",
    "returns = np.log(data/data.shift(1)).dropna()\n",
    "\n",
    "# usd --> brl, considerando log\n",
    "returns['SP500'] = returns['SP500'] + returns['USDBRL']\n",
    "returns['GOLD']  = returns['GOLD']  + returns['USDBRL']\n"
   ]
  },
  {
   "cell_type": "code",
   "execution_count": 17,
   "id": "906e2ec4",
   "metadata": {},
   "outputs": [],
   "source": [
    "# inicio do black-litterman\n",
    "assets = [\"BVSP\", \"SP500\", \"USDBRL\", \"GOLD\"]\n",
    "R = returns[assets]\n",
    "Sigma = R.cov().values\n",
    "n = len(assets)\n",
    "\n",
    "# parâmetros \n",
    "delta = 2.5 # chutes iniciais, mas uma estimativa melhor seria com base no retorno do mercado e no ret. livre de risco\n",
    "tau = 0.025 # o mesmo vale aqui\n",
    "\n",
    "w_eq = np.ones(n)/n\n",
    "Pi = delta * Sigma.dot(w_eq)\n"
   ]
  },
  {
   "cell_type": "code",
   "execution_count": 18,
   "id": "7a5e6656",
   "metadata": {},
   "outputs": [],
   "source": [
    "# visao P: Ouro - S&P500 = +2%\n",
    "P = np.array([[0, -1, 0, 1]])\n",
    "Q = np.array([0.02])\n",
    "Omega = np.diag(np.diag(P @ (tau * Sigma) @ P.T))\n"
   ]
  },
  {
   "cell_type": "code",
   "execution_count": 19,
   "id": "a9a5f417",
   "metadata": {},
   "outputs": [],
   "source": [
    "M_inv = np.linalg.inv(np.linalg.inv(tau * Sigma) + P.T @ np.linalg.inv(Omega) @ P)\n",
    "mu_bl = M_inv @ (np.linalg.inv(tau * Sigma) @ Pi + P.T @ np.linalg.inv(Omega) @ Q)\n"
   ]
  },
  {
   "cell_type": "code",
   "execution_count": null,
   "id": "ce112d02",
   "metadata": {},
   "outputs": [],
   "source": [
    "# objetivo a ser minimizado \n",
    "def objective(w, mu, Sigma, delta):\n",
    "    return -(w @ mu - 0.5 * delta * w @ Sigma @ w)\n",
    "\n",
    "constraints = {'type': 'eq', 'fun': lambda w: np.sum(w) - 1}\n",
    "bounds = [(0, 1)] * n\n",
    "w0 = np.ones(n)/n\n",
    "\n",
    "res = minimize(objective, w0, args=(mu_bl, Sigma, delta), # minimização\n",
    "               method='SLSQP', bounds=bounds, constraints=constraints)\n",
    "w_bl_long = res.x\n",
    "allocation = pd.Series(w_bl_long, index=assets)\n"
   ]
  },
  {
   "cell_type": "code",
   "execution_count": null,
   "id": "1c3b4a61",
   "metadata": {},
   "outputs": [
    {
     "name": "stderr",
     "output_type": "stream",
     "text": [
      "C:\\Users\\arthu\\AppData\\Local\\Temp\\ipykernel_75832\\1634207949.py:7: FutureWarning: 'Y' is deprecated and will be removed in a future version, please use 'YE' instead.\n",
      "  return series.resample('Y').agg(['sum','std'])\n",
      "C:\\Users\\arthu\\AppData\\Local\\Temp\\ipykernel_75832\\1634207949.py:18: FutureWarning: YF.download() has changed argument auto_adjust default to True\n",
      "  vix = yf.download('^VIX', start=\"2020-01-02\", end=\"2024-12-30\")['Close']\n",
      "[*********************100%***********************]  1 of 1 completed\n",
      "C:\\Users\\arthu\\AppData\\Local\\Temp\\ipykernel_75832\\1634207949.py:19: FutureWarning: 'Y' is deprecated and will be removed in a future version, please use 'YE' instead.\n",
      "  vix_annual = vix.resample('Y').mean()\n"
     ]
    }
   ],
   "source": [
    "# retorno diário \n",
    "portfolio_returns = (R * w_bl_long).sum(axis=1)\n",
    "portfolio_value = (1 + portfolio_returns).cumprod() * 100000\n",
    "\n",
    "# retorno e risco anual\n",
    "def annual_stats(series):\n",
    "    return series.resample('Y').agg(['sum','std'])\n",
    "\n",
    "annual_portfolio = annual_stats(portfolio_returns)\n",
    "annual_assets = {a: annual_stats(R[a]) for a in assets}\n",
    "\n",
    "# inflação (em %)\n",
    "ipca = {\n",
    "    2020: 4.52, 2021: 10.06, 2022: 5.79, 2023: 4.62, 2024: 4.83\n",
    "}\n",
    "\n",
    "# VIX anual, usando yfinance\n",
    "vix = yf.download('^VIX', start=\"2020-01-02\", end=\"2024-12-30\")['Close']\n",
    "vix_annual = vix.resample('Y').mean()\n"
   ]
  },
  {
   "cell_type": "code",
   "execution_count": 21,
   "id": "5887cbac",
   "metadata": {},
   "outputs": [],
   "source": [
    "years = annual_portfolio.index.year\n",
    "\n",
    "df_summary = pd.DataFrame({\n",
    "    'Retorno Portfólio (%)': (annual_portfolio['sum'] * 100).values,\n",
    "    'Risco Portfólio (%)': (annual_portfolio['std'] * np.sqrt(252) * 100).values,\n",
    "    'VIX (%)': vix_annual.values.squeeze(), \n",
    "    'Inflação (%)': years.map(ipca).values\n",
    "}, index=years)"
   ]
  },
  {
   "cell_type": "code",
   "execution_count": 22,
   "id": "d7ff8c2e",
   "metadata": {},
   "outputs": [
    {
     "data": {
      "application/vnd.microsoft.datawrangler.viewer.v0+json": {
       "columns": [
        {
         "name": "Date",
         "rawType": "int32",
         "type": "integer"
        },
        {
         "name": "Retorno Portfólio (%)",
         "rawType": "float64",
         "type": "float"
        },
        {
         "name": "Risco Portfólio (%)",
         "rawType": "float64",
         "type": "float"
        },
        {
         "name": "VIX (%)",
         "rawType": "float64",
         "type": "float"
        },
        {
         "name": "Inflação (%)",
         "rawType": "float64",
         "type": "float"
        }
       ],
       "ref": "fbfaf041-788b-4c72-8167-e95ef2c9d748",
       "rows": [
        [
         "2020",
         "23.299517713238554",
         "77.87485272831145",
         "29.251304385219168",
         "4.52"
        ],
        [
         "2021",
         "10.058517865806587",
         "29.07662079868717",
         "19.656388876930116",
         "10.06"
        ],
        [
         "2022",
         "2.718181308357352",
         "38.15143638286897",
         "25.623904467578903",
         "5.79"
        ],
        [
         "2023",
         "50.59213519773769",
         "24.601239012232544",
         "16.870040000915527",
         "4.62"
        ],
        [
         "2024",
         "19.155552239730724",
         "20.367826273183457",
         "15.593439987182617",
         "4.8"
        ]
       ],
       "shape": {
        "columns": 4,
        "rows": 5
       }
      },
      "text/html": [
       "<div>\n",
       "<style scoped>\n",
       "    .dataframe tbody tr th:only-of-type {\n",
       "        vertical-align: middle;\n",
       "    }\n",
       "\n",
       "    .dataframe tbody tr th {\n",
       "        vertical-align: top;\n",
       "    }\n",
       "\n",
       "    .dataframe thead th {\n",
       "        text-align: right;\n",
       "    }\n",
       "</style>\n",
       "<table border=\"1\" class=\"dataframe\">\n",
       "  <thead>\n",
       "    <tr style=\"text-align: right;\">\n",
       "      <th></th>\n",
       "      <th>Retorno Portfólio (%)</th>\n",
       "      <th>Risco Portfólio (%)</th>\n",
       "      <th>VIX (%)</th>\n",
       "      <th>Inflação (%)</th>\n",
       "    </tr>\n",
       "    <tr>\n",
       "      <th>Date</th>\n",
       "      <th></th>\n",
       "      <th></th>\n",
       "      <th></th>\n",
       "      <th></th>\n",
       "    </tr>\n",
       "  </thead>\n",
       "  <tbody>\n",
       "    <tr>\n",
       "      <th>2020</th>\n",
       "      <td>23.299518</td>\n",
       "      <td>77.874853</td>\n",
       "      <td>29.251304</td>\n",
       "      <td>4.52</td>\n",
       "    </tr>\n",
       "    <tr>\n",
       "      <th>2021</th>\n",
       "      <td>10.058518</td>\n",
       "      <td>29.076621</td>\n",
       "      <td>19.656389</td>\n",
       "      <td>10.06</td>\n",
       "    </tr>\n",
       "    <tr>\n",
       "      <th>2022</th>\n",
       "      <td>2.718181</td>\n",
       "      <td>38.151436</td>\n",
       "      <td>25.623904</td>\n",
       "      <td>5.79</td>\n",
       "    </tr>\n",
       "    <tr>\n",
       "      <th>2023</th>\n",
       "      <td>50.592135</td>\n",
       "      <td>24.601239</td>\n",
       "      <td>16.870040</td>\n",
       "      <td>4.62</td>\n",
       "    </tr>\n",
       "    <tr>\n",
       "      <th>2024</th>\n",
       "      <td>19.155552</td>\n",
       "      <td>20.367826</td>\n",
       "      <td>15.593440</td>\n",
       "      <td>4.80</td>\n",
       "    </tr>\n",
       "  </tbody>\n",
       "</table>\n",
       "</div>"
      ],
      "text/plain": [
       "      Retorno Portfólio (%)  Risco Portfólio (%)    VIX (%)  Inflação (%)\n",
       "Date                                                                     \n",
       "2020              23.299518            77.874853  29.251304          4.52\n",
       "2021              10.058518            29.076621  19.656389         10.06\n",
       "2022               2.718181            38.151436  25.623904          5.79\n",
       "2023              50.592135            24.601239  16.870040          4.62\n",
       "2024              19.155552            20.367826  15.593440          4.80"
      ]
     },
     "execution_count": 22,
     "metadata": {},
     "output_type": "execute_result"
    }
   ],
   "source": [
    "df_summary"
   ]
  }
 ],
 "metadata": {
  "kernelspec": {
   "display_name": "itau_asset",
   "language": "python",
   "name": "python3"
  },
  "language_info": {
   "codemirror_mode": {
    "name": "ipython",
    "version": 3
   },
   "file_extension": ".py",
   "mimetype": "text/x-python",
   "name": "python",
   "nbconvert_exporter": "python",
   "pygments_lexer": "ipython3",
   "version": "3.10.11"
  }
 },
 "nbformat": 4,
 "nbformat_minor": 5
}
